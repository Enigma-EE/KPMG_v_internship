{
 "cells": [
  {
   "cell_type": "code",
   "execution_count": 11,
   "id": "275e6b30",
   "metadata": {},
   "outputs": [],
   "source": [
    "from scipy.stats import chi2_contingency \n",
    "import pandas as pd\n",
    "from scipy.stats import chi2_contingency \n",
    "import numpy as np\n"
   ]
  },
  {
   "cell_type": "code",
   "execution_count": 5,
   "id": "da625b1b",
   "metadata": {},
   "outputs": [],
   "source": [
    "df= pd.read_csv(\"merged_df.csv\")"
   ]
  },
  {
   "cell_type": "code",
   "execution_count": 7,
   "id": "1573fcc1",
   "metadata": {},
   "outputs": [
    {
     "name": "stdout",
     "output_type": "stream",
     "text": [
      "<class 'pandas.core.frame.DataFrame'>\n",
      "RangeIndex: 19997 entries, 0 to 19996\n",
      "Data columns (total 32 columns):\n",
      " #   Column                   Non-Null Count  Dtype  \n",
      "---  ------                   --------------  -----  \n",
      " 0   Unnamed: 0               19997 non-null  int64  \n",
      " 1   customer_id              19997 non-null  int64  \n",
      " 2   first_name               19997 non-null  object \n",
      " 3   last_name                19355 non-null  object \n",
      " 4   gender                   19997 non-null  object \n",
      " 5   3y_bike_purchases        19997 non-null  int64  \n",
      " 6   DOB                      19551 non-null  object \n",
      " 7   job_title                17603 non-null  object \n",
      " 8   job_industry_category    16768 non-null  object \n",
      " 9   wealth_segment           19997 non-null  object \n",
      " 10  deceased_indicator       19997 non-null  object \n",
      " 11  owns_car                 19997 non-null  object \n",
      " 12  tenure                   19551 non-null  float64\n",
      " 13  address                  19968 non-null  object \n",
      " 14  postcode                 19968 non-null  float64\n",
      " 15  state                    19968 non-null  object \n",
      " 16  country                  19968 non-null  object \n",
      " 17  property_valuation       19968 non-null  float64\n",
      " 18  Age                      19997 non-null  float64\n",
      " 19  decade                   19997 non-null  int64  \n",
      " 20  transaction_id           19997 non-null  int64  \n",
      " 21  product_id               19997 non-null  int64  \n",
      " 22  transaction_date         19997 non-null  object \n",
      " 23  online_order             19997 non-null  bool   \n",
      " 24  order_status             19997 non-null  object \n",
      " 25  brand                    19800 non-null  object \n",
      " 26  product_line             19800 non-null  object \n",
      " 27  product_class            19800 non-null  object \n",
      " 28  product_size             19800 non-null  object \n",
      " 29  list_price               19997 non-null  float64\n",
      " 30  standard_cost            19800 non-null  float64\n",
      " 31  product_first_sold_date  19800 non-null  float64\n",
      "dtypes: bool(1), float64(7), int64(6), object(18)\n",
      "memory usage: 4.7+ MB\n"
     ]
    }
   ],
   "source": [
    "df.info()"
   ]
  },
  {
   "cell_type": "code",
   "execution_count": 8,
   "id": "e82765bb",
   "metadata": {},
   "outputs": [
    {
     "name": "stdout",
     "output_type": "stream",
     "text": [
      "product_class  high   low  medium    All\n",
      "state                                   \n",
      "NSW            1648  1600    7315  10563\n",
      "QLD             624   602    2996   4222\n",
      "VIC             740   757    3491   4988\n",
      "All            3012  2959   13802  19773\n"
     ]
    }
   ],
   "source": [
    "chisqt = pandas.crosstab(df.state, df.product_class, margins=True)\n",
    "print(chisqt)"
   ]
  },
  {
   "cell_type": "code",
   "execution_count": 10,
   "id": "7953e6c7",
   "metadata": {},
   "outputs": [
    {
     "name": "stdout",
     "output_type": "stream",
     "text": [
      "(4.190480046922958, 0.2416167429550566, 3)\n"
     ]
    }
   ],
   "source": [
    "chisqt = pandas.crosstab(df.state, df.product_class, margins=True)\n",
    "value = np.array([chisqt.iloc[0][0:5].values,\n",
    "                  chisqt.iloc[1][0:5].values])\n",
    "print(chi2_contingency(value)[0:3])"
   ]
  },
  {
   "cell_type": "code",
   "execution_count": null,
   "id": "96a3c074",
   "metadata": {},
   "outputs": [],
   "source": []
  }
 ],
 "metadata": {
  "kernelspec": {
   "display_name": "Python 3 (ipykernel)",
   "language": "python",
   "name": "python3"
  },
  "language_info": {
   "codemirror_mode": {
    "name": "ipython",
    "version": 3
   },
   "file_extension": ".py",
   "mimetype": "text/x-python",
   "name": "python",
   "nbconvert_exporter": "python",
   "pygments_lexer": "ipython3",
   "version": "3.7.4"
  }
 },
 "nbformat": 4,
 "nbformat_minor": 5
}
