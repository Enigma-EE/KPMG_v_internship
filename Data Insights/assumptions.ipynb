{
 "cells": [
  {
   "cell_type": "code",
   "execution_count": 10,
   "id": "90988f47",
   "metadata": {},
   "outputs": [],
   "source": [
    "from scipy import stats\n",
    "import pandas as pd\n"
   ]
  },
  {
   "cell_type": "code",
   "execution_count": 34,
   "id": "c4f77b7c",
   "metadata": {},
   "outputs": [],
   "source": [
    "# import the data\n",
    "df= pd.read_csv(\"merged_df.csv\")\n",
    "\n"
   ]
  },
  {
   "cell_type": "code",
   "execution_count": 35,
   "id": "e9cbee1f",
   "metadata": {},
   "outputs": [],
   "source": [
    "false = df[(df['online_order'] == False)]\n",
    "true = df[(df['online_order'] == True)]"
   ]
  },
  {
   "cell_type": "code",
   "execution_count": 36,
   "id": "33644f18",
   "metadata": {},
   "outputs": [
    {
     "data": {
      "text/plain": [
       "LeveneResult(statistic=0.19169965635108355, pvalue=0.6615104866158228)"
      ]
     },
     "execution_count": 36,
     "metadata": {},
     "output_type": "execute_result"
    }
   ],
   "source": [
    "# homogeneity\n",
    "stats.levene(false['list_price'], true['list_price'])"
   ]
  },
  {
   "cell_type": "code",
   "execution_count": null,
   "id": "3d75cfff",
   "metadata": {},
   "outputs": [],
   "source": []
  },
  {
   "cell_type": "code",
   "execution_count": null,
   "id": "595ebcbc",
   "metadata": {},
   "outputs": [],
   "source": []
  },
  {
   "cell_type": "code",
   "execution_count": null,
   "id": "2b6a79c8",
   "metadata": {},
   "outputs": [],
   "source": []
  },
  {
   "cell_type": "code",
   "execution_count": null,
   "id": "0a8ba39c",
   "metadata": {},
   "outputs": [],
   "source": []
  }
 ],
 "metadata": {
  "kernelspec": {
   "display_name": "Python 3 (ipykernel)",
   "language": "python",
   "name": "python3"
  },
  "language_info": {
   "codemirror_mode": {
    "name": "ipython",
    "version": 3
   },
   "file_extension": ".py",
   "mimetype": "text/x-python",
   "name": "python",
   "nbconvert_exporter": "python",
   "pygments_lexer": "ipython3",
   "version": "3.7.4"
  }
 },
 "nbformat": 4,
 "nbformat_minor": 5
}
