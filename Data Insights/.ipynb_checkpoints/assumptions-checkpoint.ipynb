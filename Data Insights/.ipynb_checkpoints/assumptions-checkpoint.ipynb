{
 "cells": [
  {
   "cell_type": "code",
   "execution_count": 1,
   "id": "d6c2c339",
   "metadata": {},
   "outputs": [],
   "source": [
    "from scipy import stats\n",
    "import pandas as pd\n"
   ]
  },
  {
   "cell_type": "code",
   "execution_count": 2,
   "id": "9e75107f",
   "metadata": {},
   "outputs": [],
   "source": [
    "# import the data\n",
    "df= pd.read_csv(\"merged_df.csv\")\n",
    "\n"
   ]
  },
  {
   "cell_type": "code",
   "execution_count": 6,
   "id": "2448d9d4",
   "metadata": {},
   "outputs": [],
   "source": [
    "solex = df[(df['brand'] == 'Solex')]\n",
    "weare = df[(df['brand'] == 'WeareA2B')]"
   ]
  },
  {
   "cell_type": "code",
   "execution_count": 7,
   "id": "527027ba",
   "metadata": {},
   "outputs": [
    {
     "data": {
      "text/plain": [
       "LeveneResult(statistic=104.03890744274399, pvalue=2.8497414396877742e-24)"
      ]
     },
     "execution_count": 7,
     "metadata": {},
     "output_type": "execute_result"
    }
   ],
   "source": [
    "# homogeneity\n",
    "stats.levene(solex['list_price'], weare['list_price'])"
   ]
  },
  {
   "cell_type": "code",
   "execution_count": 8,
   "id": "29e1c1e9",
   "metadata": {},
   "outputs": [
    {
     "data": {
      "text/plain": [
       "ShapiroResult(statistic=0.901272177696228, pvalue=7.709944150715144e-42)"
      ]
     },
     "execution_count": 8,
     "metadata": {},
     "output_type": "execute_result"
    }
   ],
   "source": [
    "# Shapiro-Wilk test for normality\n",
    "stats.shapiro(solex['list_price'])\n",
    "stats.shapiro(weare['list_price'])"
   ]
  },
  {
   "cell_type": "code",
   "execution_count": null,
   "id": "223f808b",
   "metadata": {},
   "outputs": [],
   "source": []
  }
 ],
 "metadata": {
  "kernelspec": {
   "display_name": "Python 3 (ipykernel)",
   "language": "python",
   "name": "python3"
  },
  "language_info": {
   "codemirror_mode": {
    "name": "ipython",
    "version": 3
   },
   "file_extension": ".py",
   "mimetype": "text/x-python",
   "name": "python",
   "nbconvert_exporter": "python",
   "pygments_lexer": "ipython3",
   "version": "3.7.4"
  }
 },
 "nbformat": 4,
 "nbformat_minor": 5
}
