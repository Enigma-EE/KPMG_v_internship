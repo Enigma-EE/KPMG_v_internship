{
 "cells": [
  {
   "cell_type": "code",
   "execution_count": 1,
   "id": "7ae2b766",
   "metadata": {},
   "outputs": [],
   "source": [
    "from scipy.stats import chi2_contingency \n",
    " \n"
   ]
  },
  {
   "cell_type": "code",
   "execution_count": null,
   "id": "ebb386bc",
   "metadata": {},
   "outputs": [],
   "source": [
    "info = [[100, 200, 300], [50, 60, 70]] \n",
    "print(info)\n",
    "stat, p, dof= chi2_contingency(info) \n",
    " \n",
    "print(dof)\n",
    " \n",
    "significance_level = 0.05\n",
    "print(\"p value: \" + str(p)) \n",
    "if p <= significance_level: \n",
    "    print('Reject NULL HYPOTHESIS') \n",
    "else: \n",
    "    print('ACCEPT NULL HYPOTHESIS') "
   ]
  }
 ],
 "metadata": {
  "kernelspec": {
   "display_name": "Python 3 (ipykernel)",
   "language": "python",
   "name": "python3"
  },
  "language_info": {
   "codemirror_mode": {
    "name": "ipython",
    "version": 3
   },
   "file_extension": ".py",
   "mimetype": "text/x-python",
   "name": "python",
   "nbconvert_exporter": "python",
   "pygments_lexer": "ipython3",
   "version": "3.7.4"
  }
 },
 "nbformat": 4,
 "nbformat_minor": 5
}
