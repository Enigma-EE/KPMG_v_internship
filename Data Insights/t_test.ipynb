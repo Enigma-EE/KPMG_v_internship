{
 "cells": [
  {
   "cell_type": "code",
   "execution_count": null,
   "id": "079330ba",
   "metadata": {},
   "outputs": [],
   "source": []
  },
  {
   "cell_type": "code",
   "execution_count": 1,
   "id": "7c9bfe77",
   "metadata": {},
   "outputs": [],
   "source": [
    "import pandas as pd\n",
    "import numpy as np\n",
    "import datetime\n",
    "from datetime import datetime, timedelta, date\n",
    "from matplotlib.ticker import FuncFormatter\n",
    "import matplotlib.pyplot as plt\n",
    "import warnings\n",
    "import math as ma\n",
    "import seaborn as sns\n",
    "from scipy.stats import kurtosis\n",
    "from scipy.stats import skew\n",
    "%matplotlib inline\n",
    "\n",
    "import warnings\n",
    "warnings.filterwarnings(\"ignore\")"
   ]
  },
  {
   "cell_type": "code",
   "execution_count": 2,
   "id": "55c4a889",
   "metadata": {},
   "outputs": [],
   "source": [
    "# read csv file from task1\n",
    "df = pd.read_csv('data_clean.csv')"
   ]
  },
  {
   "cell_type": "code",
   "execution_count": 3,
   "id": "a0f07e5c",
   "metadata": {},
   "outputs": [],
   "source": [
    "# Select rows with index value \"A\" and store in dataframe A\n",
    "dfA = df.loc[df['customer_id'] <= 4000]\n",
    "\n",
    "# Select rows with index value \"B\" and store in dataframe B\n",
    "dfB = df.loc[df['customer_id'] >4000]\n"
   ]
  },
  {
   "cell_type": "code",
   "execution_count": 4,
   "id": "7eda7f2a",
   "metadata": {},
   "outputs": [
    {
     "name": "stdout",
     "output_type": "stream",
     "text": [
      "t-statistic:  -0.9377267068386276\n",
      "p-value:  0.3484301857683023\n"
     ]
    }
   ],
   "source": [
    "from scipy.stats import ttest_ind\n",
    "\n",
    "# Sample data\n",
    "sample1 = dfA['3y_bike_purchases']\n",
    "sample2 = dfB['3y_bike_purchases']\n",
    "\n",
    "# Perform T-test\n",
    "t_statistic, p_value = ttest_ind(sample1, sample2)\n",
    "\n",
    "# Print results\n",
    "print(\"t-statistic: \", t_statistic)\n",
    "print(\"p-value: \", p_value)\n"
   ]
  },
  {
   "cell_type": "code",
   "execution_count": 5,
   "id": "8ede3ae7",
   "metadata": {},
   "outputs": [
    {
     "name": "stdout",
     "output_type": "stream",
     "text": [
      "t-statistic:  -12.919440574866233\n",
      "p-value:  1.3894299901466474e-37\n"
     ]
    }
   ],
   "source": [
    "# Sample data\n",
    "sample1 = dfA['Age']\n",
    "sample2 = dfB['Age']\n",
    "\n",
    "# Perform T-test\n",
    "t_statistic, p_value = ttest_ind(sample1, sample2)\n",
    "\n",
    "# Print results\n",
    "print(\"t-statistic: \", t_statistic)\n",
    "print(\"p-value: \", p_value)\n"
   ]
  },
  {
   "cell_type": "code",
   "execution_count": null,
   "id": "1cef7538",
   "metadata": {},
   "outputs": [],
   "source": []
  },
  {
   "cell_type": "code",
   "execution_count": null,
   "id": "9afe3b8b",
   "metadata": {},
   "outputs": [],
   "source": []
  }
 ],
 "metadata": {
  "kernelspec": {
   "display_name": "Python 3 (ipykernel)",
   "language": "python",
   "name": "python3"
  },
  "language_info": {
   "codemirror_mode": {
    "name": "ipython",
    "version": 3
   },
   "file_extension": ".py",
   "mimetype": "text/x-python",
   "name": "python",
   "nbconvert_exporter": "python",
   "pygments_lexer": "ipython3",
   "version": "3.7.4"
  }
 },
 "nbformat": 4,
 "nbformat_minor": 5
}
