{
 "cells": [
  {
   "cell_type": "code",
   "execution_count": 1,
   "id": "a346d59c",
   "metadata": {},
   "outputs": [],
   "source": [
    "import pandas as pd\n",
    "import numpy as np\n",
    "import datetime\n",
    "from datetime import datetime, timedelta, date\n",
    "from matplotlib.ticker import FuncFormatter\n",
    "import matplotlib.pyplot as plt\n",
    "import warnings\n",
    "import math as ma\n",
    "warnings.filterwarnings(\"ignore\")"
   ]
  },
  {
   "cell_type": "code",
   "execution_count": 2,
   "id": "8dfdd075",
   "metadata": {},
   "outputs": [],
   "source": [
    "import numpy as np # linear algebra\n",
    "import pandas as pd # data processing, CSV file I/O (e.g. pd.read_csv)\n",
    "import seaborn as sns\n",
    "import matplotlib.pyplot as plt\n",
    "from scipy.stats import kurtosis\n",
    "from scipy.stats import skew\n",
    "%matplotlib inline\n",
    "\n",
    "import warnings\n",
    "warnings.filterwarnings(\"ignore\")\n",
    "\n"
   ]
  },
  {
   "cell_type": "code",
   "execution_count": 3,
   "id": "0bcbc834",
   "metadata": {},
   "outputs": [],
   "source": [
    "# read csv file from task1\n",
    "df = pd.read_csv('customer_demographic.csv')"
   ]
  },
  {
   "cell_type": "markdown",
   "id": "c41d29eb",
   "metadata": {},
   "source": [
    "## Cleaning"
   ]
  },
  {
   "cell_type": "code",
   "execution_count": 4,
   "id": "3b107e42",
   "metadata": {},
   "outputs": [
    {
     "data": {
      "text/plain": [
       "(5000, 19)"
      ]
     },
     "execution_count": 4,
     "metadata": {},
     "output_type": "execute_result"
    }
   ],
   "source": [
    "df.shape"
   ]
  },
  {
   "cell_type": "code",
   "execution_count": 5,
   "id": "4f4505ec",
   "metadata": {},
   "outputs": [
    {
     "name": "stdout",
     "output_type": "stream",
     "text": [
      "<class 'pandas.core.frame.DataFrame'>\n",
      "RangeIndex: 5000 entries, 0 to 4999\n",
      "Data columns (total 19 columns):\n",
      " #   Column                               Non-Null Count  Dtype  \n",
      "---  ------                               --------------  -----  \n",
      " 0   customer_id                          5000 non-null   int64  \n",
      " 1   first_name                           5000 non-null   object \n",
      " 2   last_name                            4846 non-null   object \n",
      " 3   gender                               5000 non-null   object \n",
      " 4   past_3_years_bike_related_purchases  5000 non-null   int64  \n",
      " 5   DOB                                  4896 non-null   object \n",
      " 6   job_title                            4388 non-null   object \n",
      " 7   job_industry_category                4179 non-null   object \n",
      " 8   wealth_segment                       5000 non-null   object \n",
      " 9   deceased_indicator                   5000 non-null   object \n",
      " 10  owns_car                             5000 non-null   object \n",
      " 11  tenure                               4913 non-null   float64\n",
      " 12  address                              4996 non-null   object \n",
      " 13  postcode                             4996 non-null   float64\n",
      " 14  state                                4996 non-null   object \n",
      " 15  country                              4996 non-null   object \n",
      " 16  property_valuation                   4996 non-null   float64\n",
      " 17  Rank                                 1000 non-null   float64\n",
      " 18  Value                                1000 non-null   float64\n",
      "dtypes: float64(5), int64(2), object(12)\n",
      "memory usage: 742.3+ KB\n"
     ]
    }
   ],
   "source": [
    "# check dtype\n",
    "df.info()"
   ]
  },
  {
   "cell_type": "code",
   "execution_count": 6,
   "id": "18c58b82",
   "metadata": {},
   "outputs": [],
   "source": [
    "df['DOB'] = df['DOB'].astype('datetime64')\n",
    "df['DOB'] = pd.to_datetime(df[\"DOB\"], errors='coerce')\n",
    "df['postcode'] = df['postcode'].astype(str).apply(lambda x: x.replace('.0',''))"
   ]
  },
  {
   "cell_type": "code",
   "execution_count": 7,
   "id": "0cae570e",
   "metadata": {},
   "outputs": [],
   "source": [
    "df['customer_id'] = df['customer_id'].astype(str)"
   ]
  },
  {
   "cell_type": "code",
   "execution_count": 8,
   "id": "82e01a47",
   "metadata": {},
   "outputs": [
    {
     "data": {
      "text/plain": [
       "0      1953-10-12\n",
       "1      1980-12-16\n",
       "2      1954-01-20\n",
       "3      1961-10-03\n",
       "4      1977-05-13\n",
       "          ...    \n",
       "4995   1959-10-07\n",
       "4996   2001-10-17\n",
       "4997   1954-10-05\n",
       "4998   1952-12-17\n",
       "4999   1955-10-02\n",
       "Name: DOB, Length: 5000, dtype: datetime64[ns]"
      ]
     },
     "execution_count": 8,
     "metadata": {},
     "output_type": "execute_result"
    }
   ],
   "source": [
    "df['DOB']"
   ]
  },
  {
   "cell_type": "code",
   "execution_count": 9,
   "id": "3aa16512",
   "metadata": {},
   "outputs": [],
   "source": [
    "df.rename(columns={\"past_3_years_bike_related_purchases\":\"3y_bike_purchases\"}, inplace = True)"
   ]
  },
  {
   "cell_type": "code",
   "execution_count": 10,
   "id": "99ee2855",
   "metadata": {},
   "outputs": [],
   "source": [
    "df = df.drop(['Rank', 'Value'], axis=1)"
   ]
  },
  {
   "cell_type": "code",
   "execution_count": 11,
   "id": "acaabf14",
   "metadata": {},
   "outputs": [],
   "source": [
    "df = df.set_index(['customer_id'])"
   ]
  },
  {
   "cell_type": "code",
   "execution_count": 12,
   "id": "e7bb0fc0",
   "metadata": {},
   "outputs": [
    {
     "name": "stdout",
     "output_type": "stream",
     "text": [
      "<class 'pandas.core.frame.DataFrame'>\n",
      "Index: 5000 entries, 1 to 5000\n",
      "Data columns (total 16 columns):\n",
      " #   Column                 Non-Null Count  Dtype         \n",
      "---  ------                 --------------  -----         \n",
      " 0   first_name             5000 non-null   object        \n",
      " 1   last_name              4846 non-null   object        \n",
      " 2   gender                 5000 non-null   object        \n",
      " 3   3y_bike_purchases      5000 non-null   int64         \n",
      " 4   DOB                    4896 non-null   datetime64[ns]\n",
      " 5   job_title              4388 non-null   object        \n",
      " 6   job_industry_category  4179 non-null   object        \n",
      " 7   wealth_segment         5000 non-null   object        \n",
      " 8   deceased_indicator     5000 non-null   object        \n",
      " 9   owns_car               5000 non-null   object        \n",
      " 10  tenure                 4913 non-null   float64       \n",
      " 11  address                4996 non-null   object        \n",
      " 12  postcode               5000 non-null   object        \n",
      " 13  state                  4996 non-null   object        \n",
      " 14  country                4996 non-null   object        \n",
      " 15  property_valuation     4996 non-null   float64       \n",
      "dtypes: datetime64[ns](1), float64(2), int64(1), object(12)\n",
      "memory usage: 664.1+ KB\n"
     ]
    }
   ],
   "source": [
    "df.info()"
   ]
  },
  {
   "cell_type": "code",
   "execution_count": 13,
   "id": "9e47858d",
   "metadata": {},
   "outputs": [
    {
     "data": {
      "text/plain": [
       "False"
      ]
     },
     "execution_count": 13,
     "metadata": {},
     "output_type": "execute_result"
    }
   ],
   "source": [
    "df.duplicated().any()"
   ]
  },
  {
   "cell_type": "code",
   "execution_count": 14,
   "id": "8095f356",
   "metadata": {},
   "outputs": [],
   "source": [
    "# df = df.dropna()"
   ]
  },
  {
   "cell_type": "code",
   "execution_count": 15,
   "id": "1df274da",
   "metadata": {},
   "outputs": [
    {
     "data": {
      "text/html": [
       "<div>\n",
       "<style scoped>\n",
       "    .dataframe tbody tr th:only-of-type {\n",
       "        vertical-align: middle;\n",
       "    }\n",
       "\n",
       "    .dataframe tbody tr th {\n",
       "        vertical-align: top;\n",
       "    }\n",
       "\n",
       "    .dataframe thead th {\n",
       "        text-align: right;\n",
       "    }\n",
       "</style>\n",
       "<table border=\"1\" class=\"dataframe\">\n",
       "  <thead>\n",
       "    <tr style=\"text-align: right;\">\n",
       "      <th></th>\n",
       "      <th>first_name</th>\n",
       "      <th>last_name</th>\n",
       "      <th>gender</th>\n",
       "      <th>3y_bike_purchases</th>\n",
       "      <th>DOB</th>\n",
       "      <th>job_title</th>\n",
       "      <th>job_industry_category</th>\n",
       "      <th>wealth_segment</th>\n",
       "      <th>deceased_indicator</th>\n",
       "      <th>owns_car</th>\n",
       "      <th>tenure</th>\n",
       "      <th>address</th>\n",
       "      <th>postcode</th>\n",
       "      <th>state</th>\n",
       "      <th>country</th>\n",
       "      <th>property_valuation</th>\n",
       "    </tr>\n",
       "    <tr>\n",
       "      <th>customer_id</th>\n",
       "      <th></th>\n",
       "      <th></th>\n",
       "      <th></th>\n",
       "      <th></th>\n",
       "      <th></th>\n",
       "      <th></th>\n",
       "      <th></th>\n",
       "      <th></th>\n",
       "      <th></th>\n",
       "      <th></th>\n",
       "      <th></th>\n",
       "      <th></th>\n",
       "      <th></th>\n",
       "      <th></th>\n",
       "      <th></th>\n",
       "      <th></th>\n",
       "    </tr>\n",
       "  </thead>\n",
       "  <tbody>\n",
       "    <tr>\n",
       "      <th>1</th>\n",
       "      <td>Laraine</td>\n",
       "      <td>Medendorp</td>\n",
       "      <td>Female</td>\n",
       "      <td>93</td>\n",
       "      <td>1953-10-12</td>\n",
       "      <td>Executive Secretary</td>\n",
       "      <td>Health</td>\n",
       "      <td>Mass Customer</td>\n",
       "      <td>N</td>\n",
       "      <td>Yes</td>\n",
       "      <td>11.0</td>\n",
       "      <td>060 Morning Avenue</td>\n",
       "      <td>2016</td>\n",
       "      <td>New South Wales</td>\n",
       "      <td>Australia</td>\n",
       "      <td>10.0</td>\n",
       "    </tr>\n",
       "    <tr>\n",
       "      <th>2</th>\n",
       "      <td>Eli</td>\n",
       "      <td>Bockman</td>\n",
       "      <td>Male</td>\n",
       "      <td>81</td>\n",
       "      <td>1980-12-16</td>\n",
       "      <td>Administrative Officer</td>\n",
       "      <td>Financial Services</td>\n",
       "      <td>Mass Customer</td>\n",
       "      <td>N</td>\n",
       "      <td>Yes</td>\n",
       "      <td>16.0</td>\n",
       "      <td>6 Meadow Vale Court</td>\n",
       "      <td>2153</td>\n",
       "      <td>New South Wales</td>\n",
       "      <td>Australia</td>\n",
       "      <td>10.0</td>\n",
       "    </tr>\n",
       "    <tr>\n",
       "      <th>3</th>\n",
       "      <td>Arlin</td>\n",
       "      <td>Dearle</td>\n",
       "      <td>Male</td>\n",
       "      <td>61</td>\n",
       "      <td>1954-01-20</td>\n",
       "      <td>Recruiting Manager</td>\n",
       "      <td>Property</td>\n",
       "      <td>Mass Customer</td>\n",
       "      <td>N</td>\n",
       "      <td>Yes</td>\n",
       "      <td>15.0</td>\n",
       "      <td>NaN</td>\n",
       "      <td>nan</td>\n",
       "      <td>NaN</td>\n",
       "      <td>NaN</td>\n",
       "      <td>NaN</td>\n",
       "    </tr>\n",
       "    <tr>\n",
       "      <th>4</th>\n",
       "      <td>Talbot</td>\n",
       "      <td>NaN</td>\n",
       "      <td>Male</td>\n",
       "      <td>33</td>\n",
       "      <td>1961-10-03</td>\n",
       "      <td>NaN</td>\n",
       "      <td>IT</td>\n",
       "      <td>Mass Customer</td>\n",
       "      <td>N</td>\n",
       "      <td>No</td>\n",
       "      <td>7.0</td>\n",
       "      <td>0 Holy Cross Court</td>\n",
       "      <td>4211</td>\n",
       "      <td>QLD</td>\n",
       "      <td>Australia</td>\n",
       "      <td>9.0</td>\n",
       "    </tr>\n",
       "    <tr>\n",
       "      <th>5</th>\n",
       "      <td>Sheila-kathryn</td>\n",
       "      <td>Calton</td>\n",
       "      <td>Female</td>\n",
       "      <td>56</td>\n",
       "      <td>1977-05-13</td>\n",
       "      <td>Senior Editor</td>\n",
       "      <td>NaN</td>\n",
       "      <td>Affluent Customer</td>\n",
       "      <td>N</td>\n",
       "      <td>Yes</td>\n",
       "      <td>8.0</td>\n",
       "      <td>17979 Del Mar Point</td>\n",
       "      <td>2448</td>\n",
       "      <td>New South Wales</td>\n",
       "      <td>Australia</td>\n",
       "      <td>4.0</td>\n",
       "    </tr>\n",
       "    <tr>\n",
       "      <th>...</th>\n",
       "      <td>...</td>\n",
       "      <td>...</td>\n",
       "      <td>...</td>\n",
       "      <td>...</td>\n",
       "      <td>...</td>\n",
       "      <td>...</td>\n",
       "      <td>...</td>\n",
       "      <td>...</td>\n",
       "      <td>...</td>\n",
       "      <td>...</td>\n",
       "      <td>...</td>\n",
       "      <td>...</td>\n",
       "      <td>...</td>\n",
       "      <td>...</td>\n",
       "      <td>...</td>\n",
       "      <td>...</td>\n",
       "    </tr>\n",
       "    <tr>\n",
       "      <th>4996</th>\n",
       "      <td>Ferdinand</td>\n",
       "      <td>Romanetti</td>\n",
       "      <td>Male</td>\n",
       "      <td>60</td>\n",
       "      <td>1959-10-07</td>\n",
       "      <td>Paralegal</td>\n",
       "      <td>Financial Services</td>\n",
       "      <td>Affluent Customer</td>\n",
       "      <td>N</td>\n",
       "      <td>No</td>\n",
       "      <td>9.0</td>\n",
       "      <td>2 Sloan Way</td>\n",
       "      <td>2200</td>\n",
       "      <td>NSW</td>\n",
       "      <td>Australia</td>\n",
       "      <td>7.0</td>\n",
       "    </tr>\n",
       "    <tr>\n",
       "      <th>4997</th>\n",
       "      <td>Burk</td>\n",
       "      <td>Wortley</td>\n",
       "      <td>Male</td>\n",
       "      <td>22</td>\n",
       "      <td>2001-10-17</td>\n",
       "      <td>Senior Sales Associate</td>\n",
       "      <td>Health</td>\n",
       "      <td>Mass Customer</td>\n",
       "      <td>N</td>\n",
       "      <td>No</td>\n",
       "      <td>6.0</td>\n",
       "      <td>04 Union Crossing</td>\n",
       "      <td>2196</td>\n",
       "      <td>NSW</td>\n",
       "      <td>Australia</td>\n",
       "      <td>10.0</td>\n",
       "    </tr>\n",
       "    <tr>\n",
       "      <th>4998</th>\n",
       "      <td>Melloney</td>\n",
       "      <td>Temby</td>\n",
       "      <td>Female</td>\n",
       "      <td>17</td>\n",
       "      <td>1954-10-05</td>\n",
       "      <td>Budget/Accounting Analyst IV</td>\n",
       "      <td>Financial Services</td>\n",
       "      <td>Affluent Customer</td>\n",
       "      <td>N</td>\n",
       "      <td>Yes</td>\n",
       "      <td>15.0</td>\n",
       "      <td>33475 Fair Oaks Junction</td>\n",
       "      <td>4702</td>\n",
       "      <td>QLD</td>\n",
       "      <td>Australia</td>\n",
       "      <td>2.0</td>\n",
       "    </tr>\n",
       "    <tr>\n",
       "      <th>4999</th>\n",
       "      <td>Dickie</td>\n",
       "      <td>Cubbini</td>\n",
       "      <td>Male</td>\n",
       "      <td>30</td>\n",
       "      <td>1952-12-17</td>\n",
       "      <td>Financial Advisor</td>\n",
       "      <td>Financial Services</td>\n",
       "      <td>Mass Customer</td>\n",
       "      <td>N</td>\n",
       "      <td>Yes</td>\n",
       "      <td>19.0</td>\n",
       "      <td>57666 Victoria Way</td>\n",
       "      <td>4215</td>\n",
       "      <td>QLD</td>\n",
       "      <td>Australia</td>\n",
       "      <td>2.0</td>\n",
       "    </tr>\n",
       "    <tr>\n",
       "      <th>5000</th>\n",
       "      <td>Sylas</td>\n",
       "      <td>Duffill</td>\n",
       "      <td>Male</td>\n",
       "      <td>56</td>\n",
       "      <td>1955-10-02</td>\n",
       "      <td>Staff Accountant IV</td>\n",
       "      <td>Property</td>\n",
       "      <td>Mass Customer</td>\n",
       "      <td>N</td>\n",
       "      <td>Yes</td>\n",
       "      <td>14.0</td>\n",
       "      <td>21875 Grover Drive</td>\n",
       "      <td>2010</td>\n",
       "      <td>NSW</td>\n",
       "      <td>Australia</td>\n",
       "      <td>9.0</td>\n",
       "    </tr>\n",
       "  </tbody>\n",
       "</table>\n",
       "<p>5000 rows × 16 columns</p>\n",
       "</div>"
      ],
      "text/plain": [
       "                 first_name  last_name  gender  3y_bike_purchases        DOB  \\\n",
       "customer_id                                                                    \n",
       "1                   Laraine  Medendorp  Female                 93 1953-10-12   \n",
       "2                       Eli    Bockman    Male                 81 1980-12-16   \n",
       "3                     Arlin     Dearle    Male                 61 1954-01-20   \n",
       "4                    Talbot        NaN    Male                 33 1961-10-03   \n",
       "5            Sheila-kathryn     Calton  Female                 56 1977-05-13   \n",
       "...                     ...        ...     ...                ...        ...   \n",
       "4996              Ferdinand  Romanetti    Male                 60 1959-10-07   \n",
       "4997                   Burk    Wortley    Male                 22 2001-10-17   \n",
       "4998               Melloney      Temby  Female                 17 1954-10-05   \n",
       "4999                 Dickie    Cubbini    Male                 30 1952-12-17   \n",
       "5000                  Sylas    Duffill    Male                 56 1955-10-02   \n",
       "\n",
       "                                job_title job_industry_category  \\\n",
       "customer_id                                                       \n",
       "1                     Executive Secretary                Health   \n",
       "2                  Administrative Officer    Financial Services   \n",
       "3                      Recruiting Manager              Property   \n",
       "4                                     NaN                    IT   \n",
       "5                           Senior Editor                   NaN   \n",
       "...                                   ...                   ...   \n",
       "4996                            Paralegal    Financial Services   \n",
       "4997               Senior Sales Associate                Health   \n",
       "4998         Budget/Accounting Analyst IV    Financial Services   \n",
       "4999                    Financial Advisor    Financial Services   \n",
       "5000                  Staff Accountant IV              Property   \n",
       "\n",
       "                wealth_segment deceased_indicator owns_car  tenure  \\\n",
       "customer_id                                                          \n",
       "1                Mass Customer                  N      Yes    11.0   \n",
       "2                Mass Customer                  N      Yes    16.0   \n",
       "3                Mass Customer                  N      Yes    15.0   \n",
       "4                Mass Customer                  N       No     7.0   \n",
       "5            Affluent Customer                  N      Yes     8.0   \n",
       "...                        ...                ...      ...     ...   \n",
       "4996         Affluent Customer                  N       No     9.0   \n",
       "4997             Mass Customer                  N       No     6.0   \n",
       "4998         Affluent Customer                  N      Yes    15.0   \n",
       "4999             Mass Customer                  N      Yes    19.0   \n",
       "5000             Mass Customer                  N      Yes    14.0   \n",
       "\n",
       "                              address postcode            state    country  \\\n",
       "customer_id                                                                  \n",
       "1                  060 Morning Avenue     2016  New South Wales  Australia   \n",
       "2                 6 Meadow Vale Court     2153  New South Wales  Australia   \n",
       "3                                 NaN      nan              NaN        NaN   \n",
       "4                  0 Holy Cross Court     4211              QLD  Australia   \n",
       "5                 17979 Del Mar Point     2448  New South Wales  Australia   \n",
       "...                               ...      ...              ...        ...   \n",
       "4996                      2 Sloan Way     2200              NSW  Australia   \n",
       "4997                04 Union Crossing     2196              NSW  Australia   \n",
       "4998         33475 Fair Oaks Junction     4702              QLD  Australia   \n",
       "4999               57666 Victoria Way     4215              QLD  Australia   \n",
       "5000               21875 Grover Drive     2010              NSW  Australia   \n",
       "\n",
       "             property_valuation  \n",
       "customer_id                      \n",
       "1                          10.0  \n",
       "2                          10.0  \n",
       "3                           NaN  \n",
       "4                           9.0  \n",
       "5                           4.0  \n",
       "...                         ...  \n",
       "4996                        7.0  \n",
       "4997                       10.0  \n",
       "4998                        2.0  \n",
       "4999                        2.0  \n",
       "5000                        9.0  \n",
       "\n",
       "[5000 rows x 16 columns]"
      ]
     },
     "execution_count": 15,
     "metadata": {},
     "output_type": "execute_result"
    }
   ],
   "source": [
    "df"
   ]
  },
  {
   "cell_type": "code",
   "execution_count": 16,
   "id": "c574ca80",
   "metadata": {},
   "outputs": [
    {
     "data": {
      "text/plain": [
       "first_name                 0\n",
       "last_name                154\n",
       "gender                     0\n",
       "3y_bike_purchases          0\n",
       "DOB                      104\n",
       "job_title                612\n",
       "job_industry_category    821\n",
       "wealth_segment             0\n",
       "deceased_indicator         0\n",
       "owns_car                   0\n",
       "tenure                    87\n",
       "address                    4\n",
       "postcode                   0\n",
       "state                      4\n",
       "country                    4\n",
       "property_valuation         4\n",
       "dtype: int64"
      ]
     },
     "execution_count": 16,
     "metadata": {},
     "output_type": "execute_result"
    }
   ],
   "source": [
    "df_missing = df.isnull().sum()\n",
    "df_missing"
   ]
  },
  {
   "cell_type": "code",
   "execution_count": 17,
   "id": "401f7d58",
   "metadata": {},
   "outputs": [],
   "source": [
    "df.to_csv('task2.csv',header=True)"
   ]
  },
  {
   "cell_type": "markdown",
   "id": "04e18f18",
   "metadata": {},
   "source": [
    "## EDA"
   ]
  },
  {
   "cell_type": "code",
   "execution_count": null,
   "id": "be32e90f",
   "metadata": {},
   "outputs": [],
   "source": [
    "## gender/age/job_industry_category/wealth_segment/3y_bike_purchases/car"
   ]
  },
  {
   "cell_type": "markdown",
   "id": "b8807fdb",
   "metadata": {},
   "source": [
    "## Categorical Variables"
   ]
  },
  {
   "cell_type": "code",
   "execution_count": 18,
   "id": "e4f8b3a0",
   "metadata": {},
   "outputs": [],
   "source": [
    "categorical = ['gender','job_industry_category','wealth_segment','owns_car']"
   ]
  },
  {
   "cell_type": "code",
   "execution_count": 19,
   "id": "c07f7e91",
   "metadata": {},
   "outputs": [
    {
     "data": {
      "text/plain": [
       "<AxesSubplot:xlabel='gender', ylabel='count'>"
      ]
     },
     "execution_count": 19,
     "metadata": {},
     "output_type": "execute_result"
    },
    {
     "data": {
      "image/png": "[encoded data removed]",
      "text/plain": [
       "<Figure size 432x288 with 1 Axes>"
      ]
     },
     "metadata": {
      "needs_background": "light"
     },
     "output_type": "display_data"
    }
   ],
   "source": [
    "sns.countplot(x='gender',data=df)"
   ]
  },
  {
   "cell_type": "code",
   "execution_count": 20,
   "id": "02fe64c4",
   "metadata": {},
   "outputs": [],
   "source": []
  },
  {
   "cell_type": "code",
   "execution_count": 21,
   "id": "b9763f4c",
   "metadata": {},
   "outputs": [
    {
     "data": {
      "text/plain": [
       "Female         2552\n",
       "Male           2343\n",
       "Unspecified     105\n",
       "Name: gender, dtype: int64"
      ]
     },
     "execution_count": 21,
     "metadata": {},
     "output_type": "execute_result"
    }
   ],
   "source": [
    "df['gender'].value_counts()"
   ]
  },
  {
   "cell_type": "code",
   "execution_count": 22,
   "id": "2a71f4a8",
   "metadata": {},
   "outputs": [
    {
     "data": {
      "text/plain": [
       "[Text(0, 0, 'Health'),\n",
       " Text(1, 0, 'Financial Services'),\n",
       " Text(2, 0, 'Property'),\n",
       " Text(3, 0, 'IT'),\n",
       " Text(4, 0, 'Retail'),\n",
       " Text(5, 0, 'Argiculture'),\n",
       " Text(6, 0, 'Manufacturing'),\n",
       " Text(7, 0, 'Telecommunications'),\n",
       " Text(8, 0, 'Entertainment')]"
      ]
     },
     "execution_count": 22,
     "metadata": {},
     "output_type": "execute_result"
    },
    {
     "data": {
      "image/png": "[encoded data removed]",
      "text/plain": [
       "<Figure size 432x288 with 1 Axes>"
      ]
     },
     "metadata": {
      "needs_background": "light"
     },
     "output_type": "display_data"
    }
   ],
   "source": [
    "ax = sns.countplot(x='job_industry_category',data=df)\n",
    "\n",
    "ax.set_xticklabels(ax.get_xticklabels(), rotation=40, ha=\"right\")"
   ]
  },
  {
   "cell_type": "code",
   "execution_count": 23,
   "id": "b16ffa8c",
   "metadata": {},
   "outputs": [
    {
     "data": {
      "text/plain": [
       "<AxesSubplot:xlabel='wealth_segment', ylabel='count'>"
      ]
     },
     "execution_count": 23,
     "metadata": {},
     "output_type": "execute_result"
    },
    {
     "data": {
      "image/png": "[encoded data removed]",
      "text/plain": [
       "<Figure size 432x288 with 1 Axes>"
      ]
     },
     "metadata": {
      "needs_background": "light"
     },
     "output_type": "display_data"
    }
   ],
   "source": [
    "sns.countplot(x='wealth_segment',data=df)"
   ]
  },
  {
   "cell_type": "code",
   "execution_count": 24,
   "id": "0925b761",
   "metadata": {},
   "outputs": [
    {
     "data": {
      "text/plain": [
       "<AxesSubplot:xlabel='owns_car', ylabel='count'>"
      ]
     },
     "execution_count": 24,
     "metadata": {},
     "output_type": "execute_result"
    },
    {
     "data": {
      "image/png": "[encoded data removed]",
      "text/plain": [
       "<Figure size 432x288 with 1 Axes>"
      ]
     },
     "metadata": {
      "needs_background": "light"
     },
     "output_type": "display_data"
    }
   ],
   "source": [
    "sns.countplot(x='owns_car',data=df)"
   ]
  },
  {
   "cell_type": "markdown",
   "id": "da2e9e66",
   "metadata": {},
   "source": [
    "## Numerical Variables"
   ]
  },
  {
   "cell_type": "code",
   "execution_count": 27,
   "id": "b90be7be",
   "metadata": {},
   "outputs": [
    {
     "data": {
      "text/plain": [
       "<AxesSubplot:xlabel='3y_bike_purchases'>"
      ]
     },
     "execution_count": 27,
     "metadata": {},
     "output_type": "execute_result"
    },
    {
     "data": {
      "image/png": "[encoded data removed]",
      "text/plain": [
       "<Figure size 432x288 with 1 Axes>"
      ]
     },
     "metadata": {
      "needs_background": "light"
     },
     "output_type": "display_data"
    }
   ],
   "source": [
    "sns.distplot(df['3y_bike_purchases'],kde=False)"
   ]
  },
  {
   "cell_type": "code",
   "execution_count": null,
   "id": "4a2725a5",
   "metadata": {},
   "outputs": [],
   "source": []
  },
  {
   "cell_type": "code",
   "execution_count": 29,
   "id": "26b99ad3",
   "metadata": {},
   "outputs": [
    {
     "data": {
      "text/plain": [
       "<AxesSubplot:xlabel='property_valuation'>"
      ]
     },
     "execution_count": 29,
     "metadata": {},
     "output_type": "execute_result"
    },
    {
     "data": {
      "image/png": "[encoded data removed]",
      "text/plain": [
       "<Figure size 432x288 with 1 Axes>"
      ]
     },
     "metadata": {
      "needs_background": "light"
     },
     "output_type": "display_data"
    }
   ],
   "source": [
    "sns.distplot(df['property_valuation'],kde=False)"
   ]
  },
  {
   "cell_type": "code",
   "execution_count": 30,
   "id": "64662d3e",
   "metadata": {},
   "outputs": [
    {
     "data": {
      "text/plain": [
       "<AxesSubplot:xlabel='property_valuation'>"
      ]
     },
     "execution_count": 30,
     "metadata": {},
     "output_type": "execute_result"
    },
    {
     "data": {
      "image/png": "[encoded data removed]",
      "text/plain": [
       "<Figure size 432x288 with 1 Axes>"
      ]
     },
     "metadata": {
      "needs_background": "light"
     },
     "output_type": "display_data"
    }
   ],
   "source": [
    "sns.boxplot(df['property_valuation'])"
   ]
  },
  {
   "cell_type": "code",
   "execution_count": null,
   "id": "d1d269f2",
   "metadata": {},
   "outputs": [],
   "source": []
  },
  {
   "cell_type": "code",
   "execution_count": 25,
   "id": "5dd155d4",
   "metadata": {},
   "outputs": [],
   "source": [
    "\n",
    "#Analyze on the age vs bikes bought\n",
    "#Needs to transform\n",
    "now = pd.to_datetime('now')\n",
    "age = (now - df['DOB']).astype('<m8[Y]')\n"
   ]
  },
  {
   "cell_type": "code",
   "execution_count": 26,
   "id": "e692bc19",
   "metadata": {},
   "outputs": [
    {
     "data": {
      "text/html": [
       "<div>\n",
       "<style scoped>\n",
       "    .dataframe tbody tr th:only-of-type {\n",
       "        vertical-align: middle;\n",
       "    }\n",
       "\n",
       "    .dataframe tbody tr th {\n",
       "        vertical-align: top;\n",
       "    }\n",
       "\n",
       "    .dataframe thead th {\n",
       "        text-align: right;\n",
       "    }\n",
       "</style>\n",
       "<table border=\"1\" class=\"dataframe\">\n",
       "  <thead>\n",
       "    <tr style=\"text-align: right;\">\n",
       "      <th></th>\n",
       "      <th>first_name</th>\n",
       "      <th>last_name</th>\n",
       "      <th>gender</th>\n",
       "      <th>3y_bike_purchases</th>\n",
       "      <th>DOB</th>\n",
       "      <th>job_title</th>\n",
       "      <th>job_industry_category</th>\n",
       "      <th>wealth_segment</th>\n",
       "      <th>deceased_indicator</th>\n",
       "      <th>owns_car</th>\n",
       "      <th>tenure</th>\n",
       "      <th>address</th>\n",
       "      <th>postcode</th>\n",
       "      <th>state</th>\n",
       "      <th>country</th>\n",
       "      <th>property_valuation</th>\n",
       "      <th>Age</th>\n",
       "    </tr>\n",
       "    <tr>\n",
       "      <th>customer_id</th>\n",
       "      <th></th>\n",
       "      <th></th>\n",
       "      <th></th>\n",
       "      <th></th>\n",
       "      <th></th>\n",
       "      <th></th>\n",
       "      <th></th>\n",
       "      <th></th>\n",
       "      <th></th>\n",
       "      <th></th>\n",
       "      <th></th>\n",
       "      <th></th>\n",
       "      <th></th>\n",
       "      <th></th>\n",
       "      <th></th>\n",
       "      <th></th>\n",
       "      <th></th>\n",
       "    </tr>\n",
       "  </thead>\n",
       "  <tbody>\n",
       "    <tr>\n",
       "      <th>1</th>\n",
       "      <td>Laraine</td>\n",
       "      <td>Medendorp</td>\n",
       "      <td>Female</td>\n",
       "      <td>93</td>\n",
       "      <td>1953-10-12</td>\n",
       "      <td>Executive Secretary</td>\n",
       "      <td>Health</td>\n",
       "      <td>Mass Customer</td>\n",
       "      <td>N</td>\n",
       "      <td>Yes</td>\n",
       "      <td>11.0</td>\n",
       "      <td>060 Morning Avenue</td>\n",
       "      <td>2016</td>\n",
       "      <td>New South Wales</td>\n",
       "      <td>Australia</td>\n",
       "      <td>10.0</td>\n",
       "      <td>69.0</td>\n",
       "    </tr>\n",
       "    <tr>\n",
       "      <th>2</th>\n",
       "      <td>Eli</td>\n",
       "      <td>Bockman</td>\n",
       "      <td>Male</td>\n",
       "      <td>81</td>\n",
       "      <td>1980-12-16</td>\n",
       "      <td>Administrative Officer</td>\n",
       "      <td>Financial Services</td>\n",
       "      <td>Mass Customer</td>\n",
       "      <td>N</td>\n",
       "      <td>Yes</td>\n",
       "      <td>16.0</td>\n",
       "      <td>6 Meadow Vale Court</td>\n",
       "      <td>2153</td>\n",
       "      <td>New South Wales</td>\n",
       "      <td>Australia</td>\n",
       "      <td>10.0</td>\n",
       "      <td>41.0</td>\n",
       "    </tr>\n",
       "    <tr>\n",
       "      <th>3</th>\n",
       "      <td>Arlin</td>\n",
       "      <td>Dearle</td>\n",
       "      <td>Male</td>\n",
       "      <td>61</td>\n",
       "      <td>1954-01-20</td>\n",
       "      <td>Recruiting Manager</td>\n",
       "      <td>Property</td>\n",
       "      <td>Mass Customer</td>\n",
       "      <td>N</td>\n",
       "      <td>Yes</td>\n",
       "      <td>15.0</td>\n",
       "      <td>NaN</td>\n",
       "      <td>nan</td>\n",
       "      <td>NaN</td>\n",
       "      <td>NaN</td>\n",
       "      <td>NaN</td>\n",
       "      <td>68.0</td>\n",
       "    </tr>\n",
       "    <tr>\n",
       "      <th>4</th>\n",
       "      <td>Talbot</td>\n",
       "      <td>NaN</td>\n",
       "      <td>Male</td>\n",
       "      <td>33</td>\n",
       "      <td>1961-10-03</td>\n",
       "      <td>NaN</td>\n",
       "      <td>IT</td>\n",
       "      <td>Mass Customer</td>\n",
       "      <td>N</td>\n",
       "      <td>No</td>\n",
       "      <td>7.0</td>\n",
       "      <td>0 Holy Cross Court</td>\n",
       "      <td>4211</td>\n",
       "      <td>QLD</td>\n",
       "      <td>Australia</td>\n",
       "      <td>9.0</td>\n",
       "      <td>61.0</td>\n",
       "    </tr>\n",
       "    <tr>\n",
       "      <th>5</th>\n",
       "      <td>Sheila-kathryn</td>\n",
       "      <td>Calton</td>\n",
       "      <td>Female</td>\n",
       "      <td>56</td>\n",
       "      <td>1977-05-13</td>\n",
       "      <td>Senior Editor</td>\n",
       "      <td>NaN</td>\n",
       "      <td>Affluent Customer</td>\n",
       "      <td>N</td>\n",
       "      <td>Yes</td>\n",
       "      <td>8.0</td>\n",
       "      <td>17979 Del Mar Point</td>\n",
       "      <td>2448</td>\n",
       "      <td>New South Wales</td>\n",
       "      <td>Australia</td>\n",
       "      <td>4.0</td>\n",
       "      <td>45.0</td>\n",
       "    </tr>\n",
       "    <tr>\n",
       "      <th>...</th>\n",
       "      <td>...</td>\n",
       "      <td>...</td>\n",
       "      <td>...</td>\n",
       "      <td>...</td>\n",
       "      <td>...</td>\n",
       "      <td>...</td>\n",
       "      <td>...</td>\n",
       "      <td>...</td>\n",
       "      <td>...</td>\n",
       "      <td>...</td>\n",
       "      <td>...</td>\n",
       "      <td>...</td>\n",
       "      <td>...</td>\n",
       "      <td>...</td>\n",
       "      <td>...</td>\n",
       "      <td>...</td>\n",
       "      <td>...</td>\n",
       "    </tr>\n",
       "    <tr>\n",
       "      <th>4996</th>\n",
       "      <td>Ferdinand</td>\n",
       "      <td>Romanetti</td>\n",
       "      <td>Male</td>\n",
       "      <td>60</td>\n",
       "      <td>1959-10-07</td>\n",
       "      <td>Paralegal</td>\n",
       "      <td>Financial Services</td>\n",
       "      <td>Affluent Customer</td>\n",
       "      <td>N</td>\n",
       "      <td>No</td>\n",
       "      <td>9.0</td>\n",
       "      <td>2 Sloan Way</td>\n",
       "      <td>2200</td>\n",
       "      <td>NSW</td>\n",
       "      <td>Australia</td>\n",
       "      <td>7.0</td>\n",
       "      <td>63.0</td>\n",
       "    </tr>\n",
       "    <tr>\n",
       "      <th>4997</th>\n",
       "      <td>Burk</td>\n",
       "      <td>Wortley</td>\n",
       "      <td>Male</td>\n",
       "      <td>22</td>\n",
       "      <td>2001-10-17</td>\n",
       "      <td>Senior Sales Associate</td>\n",
       "      <td>Health</td>\n",
       "      <td>Mass Customer</td>\n",
       "      <td>N</td>\n",
       "      <td>No</td>\n",
       "      <td>6.0</td>\n",
       "      <td>04 Union Crossing</td>\n",
       "      <td>2196</td>\n",
       "      <td>NSW</td>\n",
       "      <td>Australia</td>\n",
       "      <td>10.0</td>\n",
       "      <td>21.0</td>\n",
       "    </tr>\n",
       "    <tr>\n",
       "      <th>4998</th>\n",
       "      <td>Melloney</td>\n",
       "      <td>Temby</td>\n",
       "      <td>Female</td>\n",
       "      <td>17</td>\n",
       "      <td>1954-10-05</td>\n",
       "      <td>Budget/Accounting Analyst IV</td>\n",
       "      <td>Financial Services</td>\n",
       "      <td>Affluent Customer</td>\n",
       "      <td>N</td>\n",
       "      <td>Yes</td>\n",
       "      <td>15.0</td>\n",
       "      <td>33475 Fair Oaks Junction</td>\n",
       "      <td>4702</td>\n",
       "      <td>QLD</td>\n",
       "      <td>Australia</td>\n",
       "      <td>2.0</td>\n",
       "      <td>68.0</td>\n",
       "    </tr>\n",
       "    <tr>\n",
       "      <th>4999</th>\n",
       "      <td>Dickie</td>\n",
       "      <td>Cubbini</td>\n",
       "      <td>Male</td>\n",
       "      <td>30</td>\n",
       "      <td>1952-12-17</td>\n",
       "      <td>Financial Advisor</td>\n",
       "      <td>Financial Services</td>\n",
       "      <td>Mass Customer</td>\n",
       "      <td>N</td>\n",
       "      <td>Yes</td>\n",
       "      <td>19.0</td>\n",
       "      <td>57666 Victoria Way</td>\n",
       "      <td>4215</td>\n",
       "      <td>QLD</td>\n",
       "      <td>Australia</td>\n",
       "      <td>2.0</td>\n",
       "      <td>69.0</td>\n",
       "    </tr>\n",
       "    <tr>\n",
       "      <th>5000</th>\n",
       "      <td>Sylas</td>\n",
       "      <td>Duffill</td>\n",
       "      <td>Male</td>\n",
       "      <td>56</td>\n",
       "      <td>1955-10-02</td>\n",
       "      <td>Staff Accountant IV</td>\n",
       "      <td>Property</td>\n",
       "      <td>Mass Customer</td>\n",
       "      <td>N</td>\n",
       "      <td>Yes</td>\n",
       "      <td>14.0</td>\n",
       "      <td>21875 Grover Drive</td>\n",
       "      <td>2010</td>\n",
       "      <td>NSW</td>\n",
       "      <td>Australia</td>\n",
       "      <td>9.0</td>\n",
       "      <td>67.0</td>\n",
       "    </tr>\n",
       "  </tbody>\n",
       "</table>\n",
       "<p>5000 rows × 17 columns</p>\n",
       "</div>"
      ],
      "text/plain": [
       "                 first_name  last_name  gender  3y_bike_purchases        DOB  \\\n",
       "customer_id                                                                    \n",
       "1                   Laraine  Medendorp  Female                 93 1953-10-12   \n",
       "2                       Eli    Bockman    Male                 81 1980-12-16   \n",
       "3                     Arlin     Dearle    Male                 61 1954-01-20   \n",
       "4                    Talbot        NaN    Male                 33 1961-10-03   \n",
       "5            Sheila-kathryn     Calton  Female                 56 1977-05-13   \n",
       "...                     ...        ...     ...                ...        ...   \n",
       "4996              Ferdinand  Romanetti    Male                 60 1959-10-07   \n",
       "4997                   Burk    Wortley    Male                 22 2001-10-17   \n",
       "4998               Melloney      Temby  Female                 17 1954-10-05   \n",
       "4999                 Dickie    Cubbini    Male                 30 1952-12-17   \n",
       "5000                  Sylas    Duffill    Male                 56 1955-10-02   \n",
       "\n",
       "                                job_title job_industry_category  \\\n",
       "customer_id                                                       \n",
       "1                     Executive Secretary                Health   \n",
       "2                  Administrative Officer    Financial Services   \n",
       "3                      Recruiting Manager              Property   \n",
       "4                                     NaN                    IT   \n",
       "5                           Senior Editor                   NaN   \n",
       "...                                   ...                   ...   \n",
       "4996                            Paralegal    Financial Services   \n",
       "4997               Senior Sales Associate                Health   \n",
       "4998         Budget/Accounting Analyst IV    Financial Services   \n",
       "4999                    Financial Advisor    Financial Services   \n",
       "5000                  Staff Accountant IV              Property   \n",
       "\n",
       "                wealth_segment deceased_indicator owns_car  tenure  \\\n",
       "customer_id                                                          \n",
       "1                Mass Customer                  N      Yes    11.0   \n",
       "2                Mass Customer                  N      Yes    16.0   \n",
       "3                Mass Customer                  N      Yes    15.0   \n",
       "4                Mass Customer                  N       No     7.0   \n",
       "5            Affluent Customer                  N      Yes     8.0   \n",
       "...                        ...                ...      ...     ...   \n",
       "4996         Affluent Customer                  N       No     9.0   \n",
       "4997             Mass Customer                  N       No     6.0   \n",
       "4998         Affluent Customer                  N      Yes    15.0   \n",
       "4999             Mass Customer                  N      Yes    19.0   \n",
       "5000             Mass Customer                  N      Yes    14.0   \n",
       "\n",
       "                              address postcode            state    country  \\\n",
       "customer_id                                                                  \n",
       "1                  060 Morning Avenue     2016  New South Wales  Australia   \n",
       "2                 6 Meadow Vale Court     2153  New South Wales  Australia   \n",
       "3                                 NaN      nan              NaN        NaN   \n",
       "4                  0 Holy Cross Court     4211              QLD  Australia   \n",
       "5                 17979 Del Mar Point     2448  New South Wales  Australia   \n",
       "...                               ...      ...              ...        ...   \n",
       "4996                      2 Sloan Way     2200              NSW  Australia   \n",
       "4997                04 Union Crossing     2196              NSW  Australia   \n",
       "4998         33475 Fair Oaks Junction     4702              QLD  Australia   \n",
       "4999               57666 Victoria Way     4215              QLD  Australia   \n",
       "5000               21875 Grover Drive     2010              NSW  Australia   \n",
       "\n",
       "             property_valuation   Age  \n",
       "customer_id                            \n",
       "1                          10.0  69.0  \n",
       "2                          10.0  41.0  \n",
       "3                           NaN  68.0  \n",
       "4                           9.0  61.0  \n",
       "5                           4.0  45.0  \n",
       "...                         ...   ...  \n",
       "4996                        7.0  63.0  \n",
       "4997                       10.0  21.0  \n",
       "4998                        2.0  68.0  \n",
       "4999                        2.0  69.0  \n",
       "5000                        9.0  67.0  \n",
       "\n",
       "[5000 rows x 17 columns]"
      ]
     },
     "execution_count": 26,
     "metadata": {},
     "output_type": "execute_result"
    }
   ],
   "source": [
    "df['Age'] = age\n",
    "# df['Age'] = df['age'].astype(str).apply(lambda x: x.replace('.0',''))\n",
    "df"
   ]
  },
  {
   "cell_type": "code",
   "execution_count": 32,
   "id": "3a0576c7",
   "metadata": {},
   "outputs": [
    {
     "data": {
      "text/plain": [
       "<AxesSubplot:xlabel='Age'>"
      ]
     },
     "execution_count": 32,
     "metadata": {},
     "output_type": "execute_result"
    },
    {
     "data": {
      "image/png": "[encoded data removed]",
      "text/plain": [
       "<Figure size 432x288 with 1 Axes>"
      ]
     },
     "metadata": {
      "needs_background": "light"
     },
     "output_type": "display_data"
    }
   ],
   "source": [
    "sns.distplot(df['Age'],kde=False)"
   ]
  },
  {
   "cell_type": "code",
   "execution_count": 36,
   "id": "b41d0b4f",
   "metadata": {},
   "outputs": [],
   "source": [
    "\n",
    "# Calculate the mean of the values in the 'my_column' column\n",
    "mean_value = df['Age'].mean()\n",
    "\n",
    "# Replace values in the column that are greater than 100 with the mean value\n",
    "df.loc[df['Age'] > 100, 'Age'] = mean_value\n"
   ]
  },
  {
   "cell_type": "code",
   "execution_count": 38,
   "id": "157ace9b",
   "metadata": {},
   "outputs": [
    {
     "data": {
      "text/plain": [
       "<AxesSubplot:xlabel='Age'>"
      ]
     },
     "execution_count": 38,
     "metadata": {},
     "output_type": "execute_result"
    },
    {
     "data": {
      "image/png": "[encoded data removed]",
      "text/plain": [
       "<Figure size 432x288 with 1 Axes>"
      ]
     },
     "metadata": {
      "needs_background": "light"
     },
     "output_type": "display_data"
    }
   ],
   "source": [
    "sns.distplot(df['Age'],kde=False)"
   ]
  },
  {
   "cell_type": "code",
   "execution_count": 40,
   "id": "bff823bd",
   "metadata": {
    "scrolled": true
   },
   "outputs": [
    {
     "data": {
      "text/plain": [
       "first_name                 0\n",
       "last_name                154\n",
       "gender                     0\n",
       "3y_bike_purchases          0\n",
       "DOB                      104\n",
       "job_title                612\n",
       "job_industry_category    821\n",
       "wealth_segment             0\n",
       "deceased_indicator         0\n",
       "owns_car                   0\n",
       "tenure                    87\n",
       "address                    4\n",
       "postcode                   0\n",
       "state                      4\n",
       "country                    4\n",
       "property_valuation         4\n",
       "Age                      104\n",
       "dtype: int64"
      ]
     },
     "execution_count": 40,
     "metadata": {},
     "output_type": "execute_result"
    }
   ],
   "source": [
    "df.isnull().sum()"
   ]
  },
  {
   "cell_type": "code",
   "execution_count": 43,
   "id": "c3b85f25",
   "metadata": {},
   "outputs": [
    {
     "data": {
      "text/plain": [
       "customer_id\n",
       "1       69.0\n",
       "2       41.0\n",
       "3       68.0\n",
       "4       61.0\n",
       "5       45.0\n",
       "        ... \n",
       "4996    63.0\n",
       "4997    21.0\n",
       "4998    68.0\n",
       "4999    69.0\n",
       "5000    67.0\n",
       "Name: Age, Length: 5000, dtype: float64"
      ]
     },
     "execution_count": 43,
     "metadata": {},
     "output_type": "execute_result"
    }
   ],
   "source": [
    "x = round(df['Age'].mean())\n",
    "df['Age'].fillna(x,inplace=True)\n",
    "df['Age']"
   ]
  },
  {
   "cell_type": "code",
   "execution_count": null,
   "id": "29db29f0",
   "metadata": {},
   "outputs": [],
   "source": []
  }
 ],
 "metadata": {
  "kernelspec": {
   "display_name": "Python 3 (ipykernel)",
   "language": "python",
   "name": "python3"
  },
  "language_info": {
   "codemirror_mode": {
    "name": "ipython",
    "version": 3
   },
   "file_extension": ".py",
   "mimetype": "text/x-python",
   "name": "python",
   "nbconvert_exporter": "python",
   "pygments_lexer": "ipython3",
   "version": "3.7.4"
  }
 },
 "nbformat": 4,
 "nbformat_minor": 5
}
